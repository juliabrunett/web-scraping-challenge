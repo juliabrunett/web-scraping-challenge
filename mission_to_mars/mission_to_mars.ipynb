{
 "cells": [
  {
   "cell_type": "code",
   "execution_count": 1,
   "id": "nonprofit-cooper",
   "metadata": {},
   "outputs": [],
   "source": [
    "# Import dependenices\n",
    "from bs4 import BeautifulSoup as bs\n",
    "import requests\n",
    "from splinter import Browser\n",
    "from webdriver_manager.chrome import ChromeDriverManager\n",
    "import pandas as pd"
   ]
  },
  {
   "cell_type": "code",
   "execution_count": 2,
   "id": "polyphonic-actress",
   "metadata": {},
   "outputs": [
    {
     "name": "stderr",
     "output_type": "stream",
     "text": [
      "\n",
      "\n",
      "====== WebDriver manager ======\n",
      "Current google-chrome version is 91.0.4472\n",
      "Get LATEST driver version for 91.0.4472\n",
      "Driver [/Users/juliabrunett/.wdm/drivers/chromedriver/mac64/91.0.4472.19/chromedriver] found in cache\n"
     ]
    }
   ],
   "source": [
    "# Create executable path to open a browser for the scraping: using WebDriver Manager\n",
    "executable_path = {'executable_path': ChromeDriverManager().install()}\n",
    "browser = Browser('chrome', **executable_path, headless=False)"
   ]
  },
  {
   "cell_type": "markdown",
   "id": "universal-bumper",
   "metadata": {},
   "source": [
    "## NASA Mars News"
   ]
  },
  {
   "cell_type": "code",
   "execution_count": 3,
   "id": "demonstrated-plane",
   "metadata": {},
   "outputs": [],
   "source": [
    "# Define the url \n",
    "url = 'https://redplanetscience.com/'"
   ]
  },
  {
   "cell_type": "code",
   "execution_count": 4,
   "id": "velvet-musical",
   "metadata": {},
   "outputs": [],
   "source": [
    "# Visit the website using splinter\n",
    "browser.visit(url)"
   ]
  },
  {
   "cell_type": "code",
   "execution_count": 5,
   "id": "another-airline",
   "metadata": {},
   "outputs": [
    {
     "name": "stdout",
     "output_type": "stream",
     "text": [
      "A Year of Surprising Science From NASA's InSight Mars Mission\n",
      "A batch of new papers summarizes the lander's findings above and below the surface of the Red Planet.\n"
     ]
    }
   ],
   "source": [
    "# Iterate once to find the container, and then the latest news title and paragraph\n",
    "for x in range(1):\n",
    "    html = browser.html\n",
    "    soup = bs(html, 'html.parser')\n",
    "    \n",
    "    # Define the container\n",
    "    container = soup.find('section', class_='image_and_description_container')\n",
    "    \n",
    "    # Grab the title and paragraph text\n",
    "    news_title = container.find('div', class_='content_title').text\n",
    "    news_p = container.find('div', class_='article_teaser_body').text\n",
    "    \n",
    "    print(news_title)\n",
    "    print(news_p)\n",
    "    "
   ]
  },
  {
   "cell_type": "markdown",
   "id": "sapphire-stage",
   "metadata": {},
   "source": [
    "## JPL Mars Space Images"
   ]
  },
  {
   "cell_type": "code",
   "execution_count": 6,
   "id": "national-qatar",
   "metadata": {},
   "outputs": [],
   "source": [
    "# Url for jpl images\n",
    "url = 'https://spaceimages-mars.com/'\n",
    "# Visit the website\n",
    "browser.visit(url)"
   ]
  },
  {
   "cell_type": "code",
   "execution_count": 7,
   "id": "injured-textbook",
   "metadata": {},
   "outputs": [
    {
     "name": "stdout",
     "output_type": "stream",
     "text": [
      "https://spaceimages-mars.com/image/featured/mars3.jpg\n"
     ]
    }
   ],
   "source": [
    "# Iterate once to find the container, and then click the button to see the full image\n",
    "# find the url for the latest featured image\n",
    "for x in range(1):\n",
    "    html = browser.html\n",
    "    soup = bs(html, 'html.parser')\n",
    "    \n",
    "    # Define the container\n",
    "    container = soup.find('div', class_='floating_text_area')\n",
    "    \n",
    "    # Click on the full image button to get the full image\n",
    "    browser.links.find_by_partial_text('FULL IMAGE').click()\n",
    "    \n",
    "    # Define the box\n",
    "    box = container.find('a', class_='showimg fancybox-thumbs')\n",
    "    \n",
    "    # Grab the featured image url\n",
    "    featured_image_url = box['href']\n",
    "    featured_image_url = url + featured_image_url\n",
    "    \n",
    "    print(featured_image_url)"
   ]
  },
  {
   "cell_type": "markdown",
   "id": "constitutional-sigma",
   "metadata": {},
   "source": [
    "## Mars Facts:"
   ]
  },
  {
   "cell_type": "code",
   "execution_count": 8,
   "id": "iraqi-border",
   "metadata": {},
   "outputs": [],
   "source": [
    "# Url for table facts\n",
    "url = 'https://galaxyfacts-mars.com/'"
   ]
  },
  {
   "cell_type": "code",
   "execution_count": 9,
   "id": "lovely-appearance",
   "metadata": {},
   "outputs": [
    {
     "data": {
      "text/plain": [
       "[                         0                1                2\n",
       " 0  Mars - Earth Comparison             Mars            Earth\n",
       " 1                Diameter:         6,779 km        12,742 km\n",
       " 2                    Mass:  6.39 × 10^23 kg  5.97 × 10^24 kg\n",
       " 3                   Moons:                2                1\n",
       " 4       Distance from Sun:   227,943,824 km   149,598,262 km\n",
       " 5          Length of Year:   687 Earth days      365.24 days\n",
       " 6             Temperature:     -87 to -5 °C      -88 to 58°C,\n",
       "                       0                              1\n",
       " 0  Equatorial Diameter:                       6,792 km\n",
       " 1       Polar Diameter:                       6,752 km\n",
       " 2                 Mass:  6.39 × 10^23 kg (0.11 Earths)\n",
       " 3                Moons:          2 ( Phobos & Deimos )\n",
       " 4       Orbit Distance:       227,943,824 km (1.38 AU)\n",
       " 5         Orbit Period:           687 days (1.9 years)\n",
       " 6  Surface Temperature:                   -87 to -5 °C\n",
       " 7         First Record:              2nd millennium BC\n",
       " 8          Recorded By:           Egyptian astronomers]"
      ]
     },
     "execution_count": 9,
     "metadata": {},
     "output_type": "execute_result"
    }
   ],
   "source": [
    "# Find table data and load into pandas\n",
    "tables = pd.read_html(url)\n",
    "tables"
   ]
  },
  {
   "cell_type": "code",
   "execution_count": 10,
   "id": "diagnostic-decimal",
   "metadata": {},
   "outputs": [
    {
     "data": {
      "text/html": [
       "<div>\n",
       "<style scoped>\n",
       "    .dataframe tbody tr th:only-of-type {\n",
       "        vertical-align: middle;\n",
       "    }\n",
       "\n",
       "    .dataframe tbody tr th {\n",
       "        vertical-align: top;\n",
       "    }\n",
       "\n",
       "    .dataframe thead th {\n",
       "        text-align: right;\n",
       "    }\n",
       "</style>\n",
       "<table border=\"1\" class=\"dataframe\">\n",
       "  <thead>\n",
       "    <tr style=\"text-align: right;\">\n",
       "      <th></th>\n",
       "      <th>Mars</th>\n",
       "      <th>Earth</th>\n",
       "    </tr>\n",
       "    <tr>\n",
       "      <th>Mars - Earth Comparison</th>\n",
       "      <th></th>\n",
       "      <th></th>\n",
       "    </tr>\n",
       "  </thead>\n",
       "  <tbody>\n",
       "    <tr>\n",
       "      <th>Diameter:</th>\n",
       "      <td>6,779 km</td>\n",
       "      <td>12,742 km</td>\n",
       "    </tr>\n",
       "    <tr>\n",
       "      <th>Mass:</th>\n",
       "      <td>6.39 × 10^23 kg</td>\n",
       "      <td>5.97 × 10^24 kg</td>\n",
       "    </tr>\n",
       "    <tr>\n",
       "      <th>Moons:</th>\n",
       "      <td>2</td>\n",
       "      <td>1</td>\n",
       "    </tr>\n",
       "    <tr>\n",
       "      <th>Distance from Sun:</th>\n",
       "      <td>227,943,824 km</td>\n",
       "      <td>149,598,262 km</td>\n",
       "    </tr>\n",
       "    <tr>\n",
       "      <th>Length of Year:</th>\n",
       "      <td>687 Earth days</td>\n",
       "      <td>365.24 days</td>\n",
       "    </tr>\n",
       "    <tr>\n",
       "      <th>Temperature:</th>\n",
       "      <td>-87 to -5 °C</td>\n",
       "      <td>-88 to 58°C</td>\n",
       "    </tr>\n",
       "  </tbody>\n",
       "</table>\n",
       "</div>"
      ],
      "text/plain": [
       "                                    Mars            Earth\n",
       "Mars - Earth Comparison                                  \n",
       "Diameter:                       6,779 km        12,742 km\n",
       "Mass:                    6.39 × 10^23 kg  5.97 × 10^24 kg\n",
       "Moons:                                 2                1\n",
       "Distance from Sun:        227,943,824 km   149,598,262 km\n",
       "Length of Year:           687 Earth days      365.24 days\n",
       "Temperature:                -87 to -5 °C      -88 to 58°C"
      ]
     },
     "execution_count": 10,
     "metadata": {},
     "output_type": "execute_result"
    }
   ],
   "source": [
    "# Create a dataframe from the first table\n",
    "mars_earth_df = tables[0]\n",
    "mars_earth_df = mars_earth_df.rename(columns = mars_earth_df.iloc[0])\n",
    "mars_earth_df = mars_earth_df.set_index(\"Mars - Earth Comparison\")\n",
    "mars_earth_df = mars_earth_df.iloc[1:]\n",
    "mars_earth_df"
   ]
  },
  {
   "cell_type": "code",
   "execution_count": 23,
   "id": "computational-annual",
   "metadata": {},
   "outputs": [],
   "source": [
    "# Create html table for mars facts\n",
    "html_table = mars_earth_df.to_html(index_names=False, justify=\"center\", border = 0, classes=[\"table\", \"table-striped\",\n",
    "                                                                                \"table-bordered\", \"table-hover\"])"
   ]
  },
  {
   "cell_type": "code",
   "execution_count": 24,
   "id": "sorted-jenny",
   "metadata": {},
   "outputs": [
    {
     "name": "stdout",
     "output_type": "stream",
     "text": [
      "<table border=\"0\" class=\"dataframe table table-striped table-bordered table-hover\">\n",
      "  <thead>\n",
      "    <tr style=\"text-align: center;\">\n",
      "      <th></th>\n",
      "      <th>Mars</th>\n",
      "      <th>Earth</th>\n",
      "    </tr>\n",
      "  </thead>\n",
      "  <tbody>\n",
      "    <tr>\n",
      "      <th>Diameter:</th>\n",
      "      <td>6,779 km</td>\n",
      "      <td>12,742 km</td>\n",
      "    </tr>\n",
      "    <tr>\n",
      "      <th>Mass:</th>\n",
      "      <td>6.39 × 10^23 kg</td>\n",
      "      <td>5.97 × 10^24 kg</td>\n",
      "    </tr>\n",
      "    <tr>\n",
      "      <th>Moons:</th>\n",
      "      <td>2</td>\n",
      "      <td>1</td>\n",
      "    </tr>\n",
      "    <tr>\n",
      "      <th>Distance from Sun:</th>\n",
      "      <td>227,943,824 km</td>\n",
      "      <td>149,598,262 km</td>\n",
      "    </tr>\n",
      "    <tr>\n",
      "      <th>Length of Year:</th>\n",
      "      <td>687 Earth days</td>\n",
      "      <td>365.24 days</td>\n",
      "    </tr>\n",
      "    <tr>\n",
      "      <th>Temperature:</th>\n",
      "      <td>-87 to -5 °C</td>\n",
      "      <td>-88 to 58°C</td>\n",
      "    </tr>\n",
      "  </tbody>\n",
      "</table>\n"
     ]
    }
   ],
   "source": [
    "# Print html table for mars facts\n",
    "print(html_table)"
   ]
  },
  {
   "cell_type": "code",
   "execution_count": 58,
   "id": "popular-vision",
   "metadata": {},
   "outputs": [
    {
     "data": {
      "text/plain": [
       "['6,779 km',\n",
       " '12,742 km',\n",
       " '6.39 × 10^23 kg',\n",
       " '5.97 × 10^24 kg',\n",
       " '2',\n",
       " '1',\n",
       " '227,943,824 km',\n",
       " '149,598,262 km',\n",
       " '687 Earth days',\n",
       " '365.24 days',\n",
       " '-87 to -5 °C',\n",
       " '-88 to 58°C']"
      ]
     },
     "execution_count": 58,
     "metadata": {},
     "output_type": "execute_result"
    }
   ],
   "source": [
    "header_list = []\n",
    "data_list = []\n",
    "\n",
    "for x in range(1):\n",
    "    soup = bs(html_table, 'html.parser')\n",
    "    headers = soup.find_all('th')\n",
    "    data = soup.find_all('td')\n",
    "    \n",
    "    for header in headers:\n",
    "        header_list.append(header.text)\n",
    "    \n",
    "    for x in data:\n",
    "        data_list.append(x.text)\n",
    "        \n",
    "data_list"
   ]
  },
  {
   "cell_type": "markdown",
   "id": "emerging-helicopter",
   "metadata": {},
   "source": [
    "## Mars Hemispheres:"
   ]
  },
  {
   "cell_type": "code",
   "execution_count": 13,
   "id": "northern-notion",
   "metadata": {},
   "outputs": [],
   "source": [
    "# Define the url\n",
    "url = 'https://marshemispheres.com/'\n",
    "\n",
    "# Visit the url\n",
    "browser.visit(url)"
   ]
  },
  {
   "cell_type": "code",
   "execution_count": 14,
   "id": "thick-semiconductor",
   "metadata": {},
   "outputs": [],
   "source": [
    "# Access the html and parse through it\n",
    "html = browser.html\n",
    "soup = bs(html, 'html.parser')\n",
    "    \n",
    "# Create a hemispheres list\n",
    "hemisphere_image_urls = []\n",
    "    \n",
    "# Get the 4 descriptions for the website - h3\n",
    "descriptions = soup.find_all('h3', limit=4)"
   ]
  },
  {
   "cell_type": "code",
   "execution_count": 15,
   "id": "directed-preview",
   "metadata": {},
   "outputs": [],
   "source": [
    "# Iterate through the descriptions\n",
    "for title in descriptions:\n",
    "            \n",
    "    # Click on the description to get the full image\n",
    "    browser.links.find_by_partial_text(title.text).click()\n",
    "            \n",
    "    # Create a new html browser query for the new page\n",
    "    html = browser.html\n",
    "    soup = bs(html, 'html.parser')\n",
    "            \n",
    "    # Find the downloads box\n",
    "    downloads = soup.find('div', class_='downloads')\n",
    "            \n",
    "    # Find the downloads list\n",
    "    img_list = downloads.find('li')\n",
    "            \n",
    "    # Get the first list object's href\n",
    "    img_url = img_list.a['href']\n",
    "    \n",
    "    # Create the full url for the image\n",
    "    img_url = url + img_url\n",
    "    \n",
    "    # Create a dictionary of the values\n",
    "    dictionary = {\n",
    "        \"title\": title.text,\n",
    "        \"img_url\": img_url\n",
    "        }\n",
    "    \n",
    "    # Append the dictionary to the hemispheres list\n",
    "    hemisphere_image_urls.append(dictionary) \n",
    "    \n",
    "    # Navigate back to the main page\n",
    "    browser.back()"
   ]
  },
  {
   "cell_type": "code",
   "execution_count": 16,
   "id": "stone-cherry",
   "metadata": {},
   "outputs": [
    {
     "name": "stdout",
     "output_type": "stream",
     "text": [
      "[{'title': 'Cerberus Hemisphere Enhanced', 'img_url': 'https://marshemispheres.com/images/full.jpg'}, {'title': 'Schiaparelli Hemisphere Enhanced', 'img_url': 'https://marshemispheres.com/images/schiaparelli_enhanced-full.jpg'}, {'title': 'Syrtis Major Hemisphere Enhanced', 'img_url': 'https://marshemispheres.com/images/syrtis_major_enhanced-full.jpg'}, {'title': 'Valles Marineris Hemisphere Enhanced', 'img_url': 'https://marshemispheres.com/images/valles_marineris_enhanced-full.jpg'}]\n"
     ]
    }
   ],
   "source": [
    "print(hemisphere_image_urls)"
   ]
  },
  {
   "cell_type": "code",
   "execution_count": null,
   "id": "closing-nigeria",
   "metadata": {},
   "outputs": [],
   "source": []
  },
  {
   "cell_type": "code",
   "execution_count": null,
   "id": "random-desire",
   "metadata": {},
   "outputs": [],
   "source": []
  }
 ],
 "metadata": {
  "kernelspec": {
   "display_name": "Python [conda env:PythonData] *",
   "language": "python",
   "name": "conda-env-PythonData-py"
  },
  "language_info": {
   "codemirror_mode": {
    "name": "ipython",
    "version": 3
   },
   "file_extension": ".py",
   "mimetype": "text/x-python",
   "name": "python",
   "nbconvert_exporter": "python",
   "pygments_lexer": "ipython3",
   "version": "3.6.10"
  }
 },
 "nbformat": 4,
 "nbformat_minor": 5
}
