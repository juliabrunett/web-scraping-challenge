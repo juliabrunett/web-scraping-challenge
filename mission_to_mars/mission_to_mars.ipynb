{
 "cells": [
  {
   "cell_type": "code",
   "execution_count": 1,
   "id": "nonprofit-cooper",
   "metadata": {},
   "outputs": [],
   "source": [
    "# Import dependenices\n",
    "from bs4 import BeautifulSoup as bs\n",
    "import requests\n",
    "from splinter import Browser\n",
    "from webdriver_manager.chrome import ChromeDriverManager\n",
    "import pandas as pd"
   ]
  },
  {
   "cell_type": "code",
   "execution_count": 2,
   "id": "polyphonic-actress",
   "metadata": {},
   "outputs": [
    {
     "name": "stderr",
     "output_type": "stream",
     "text": [
      "\n",
      "\n",
      "====== WebDriver manager ======\n",
      "Current google-chrome version is 91.0.4472\n",
      "Get LATEST driver version for 91.0.4472\n",
      "Get LATEST driver version for 91.0.4472\n",
      "Trying to download new driver from https://chromedriver.storage.googleapis.com/91.0.4472.19/chromedriver_mac64.zip\n",
      "Driver has been saved in cache [/Users/juliabrunett/.wdm/drivers/chromedriver/mac64/91.0.4472.19]\n"
     ]
    }
   ],
   "source": [
    "# Create executable path to open a browser for the scraping: using WebDriver Manager\n",
    "executable_path = {'executable_path': ChromeDriverManager().install()}\n",
    "browser = Browser('chrome', **executable_path, headless=False)"
   ]
  },
  {
   "cell_type": "markdown",
   "id": "universal-bumper",
   "metadata": {},
   "source": [
    "## NASA Mars News"
   ]
  },
  {
   "cell_type": "code",
   "execution_count": 3,
   "id": "demonstrated-plane",
   "metadata": {},
   "outputs": [],
   "source": [
    "# Define the url \n",
    "url = 'https://redplanetscience.com/'"
   ]
  },
  {
   "cell_type": "code",
   "execution_count": 4,
   "id": "velvet-musical",
   "metadata": {},
   "outputs": [],
   "source": [
    "# Visit the website using splinter\n",
    "browser.visit(url)"
   ]
  },
  {
   "cell_type": "code",
   "execution_count": 5,
   "id": "another-airline",
   "metadata": {},
   "outputs": [
    {
     "name": "stdout",
     "output_type": "stream",
     "text": [
      "MAVEN Maps Electric Currents around Mars that are Fundamental to Atmospheric Loss\n",
      "Five years after NASA’s MAVEN spacecraft entered into orbit around Mars, data from the mission has led to the creation of a map of electric current systems in the Martian atmosphere.\n"
     ]
    }
   ],
   "source": [
    "# Iterate once to find the container, and then the latest news title and paragraph\n",
    "for x in range(1):\n",
    "    html = browser.html\n",
    "    soup = bs(html, 'html.parser')\n",
    "    \n",
    "    # Define the container\n",
    "    container = soup.find('section', class_='image_and_description_container')\n",
    "    \n",
    "    # Grab the title and paragraph text\n",
    "    news_title = container.find('div', class_='content_title').text\n",
    "    news_p = container.find('div', class_='article_teaser_body').text\n",
    "    \n",
    "    print(news_title)\n",
    "    print(news_p)\n",
    "    "
   ]
  },
  {
   "cell_type": "markdown",
   "id": "sapphire-stage",
   "metadata": {},
   "source": [
    "## JPL Mars Space Images"
   ]
  },
  {
   "cell_type": "code",
   "execution_count": 6,
   "id": "national-qatar",
   "metadata": {},
   "outputs": [],
   "source": [
    "# Url for jpl images\n",
    "url = 'https://spaceimages-mars.com/'\n",
    "# Visit the website\n",
    "browser.visit(url)"
   ]
  },
  {
   "cell_type": "code",
   "execution_count": 7,
   "id": "injured-textbook",
   "metadata": {},
   "outputs": [
    {
     "name": "stdout",
     "output_type": "stream",
     "text": [
      "https://spaceimages-mars.com/image/featured/mars3.jpg\n"
     ]
    }
   ],
   "source": [
    "# Iterate once to find the container, and then click the button to see the full image\n",
    "# find the url for the latest featured image\n",
    "for x in range(1):\n",
    "    html = browser.html\n",
    "    soup = bs(html, 'html.parser')\n",
    "    \n",
    "    # Define the container\n",
    "    container = soup.find('div', class_='floating_text_area')\n",
    "    \n",
    "    # Click on the full image button to get the full image\n",
    "    browser.links.find_by_partial_text('FULL IMAGE').click()\n",
    "    \n",
    "    # Define the box\n",
    "    box = container.find('a', class_='showimg fancybox-thumbs')\n",
    "    \n",
    "    # Grab the featured image url\n",
    "    featured_image_url = box['href']\n",
    "    featured_image_url = url + featured_image_url\n",
    "    \n",
    "    print(featured_image_url)"
   ]
  },
  {
   "cell_type": "markdown",
   "id": "constitutional-sigma",
   "metadata": {},
   "source": [
    "## Mars Facts:"
   ]
  },
  {
   "cell_type": "code",
   "execution_count": 8,
   "id": "iraqi-border",
   "metadata": {},
   "outputs": [],
   "source": [
    "# Url for table facts\n",
    "url = 'https://galaxyfacts-mars.com/'"
   ]
  },
  {
   "cell_type": "code",
   "execution_count": 9,
   "id": "lovely-appearance",
   "metadata": {},
   "outputs": [
    {
     "data": {
      "text/plain": [
       "[                         0                1                2\n",
       " 0  Mars - Earth Comparison             Mars            Earth\n",
       " 1                Diameter:         6,779 km        12,742 km\n",
       " 2                    Mass:  6.39 × 10^23 kg  5.97 × 10^24 kg\n",
       " 3                   Moons:                2                1\n",
       " 4       Distance from Sun:   227,943,824 km   149,598,262 km\n",
       " 5          Length of Year:   687 Earth days      365.24 days\n",
       " 6             Temperature:     -87 to -5 °C      -88 to 58°C,\n",
       "                       0                              1\n",
       " 0  Equatorial Diameter:                       6,792 km\n",
       " 1       Polar Diameter:                       6,752 km\n",
       " 2                 Mass:  6.39 × 10^23 kg (0.11 Earths)\n",
       " 3                Moons:          2 ( Phobos & Deimos )\n",
       " 4       Orbit Distance:       227,943,824 km (1.38 AU)\n",
       " 5         Orbit Period:           687 days (1.9 years)\n",
       " 6  Surface Temperature:                   -87 to -5 °C\n",
       " 7         First Record:              2nd millennium BC\n",
       " 8          Recorded By:           Egyptian astronomers]"
      ]
     },
     "execution_count": 9,
     "metadata": {},
     "output_type": "execute_result"
    }
   ],
   "source": [
    "# Find table data and load into pandas\n",
    "tables = pd.read_html(url)\n",
    "tables"
   ]
  },
  {
   "cell_type": "code",
   "execution_count": 15,
   "id": "diagnostic-decimal",
   "metadata": {},
   "outputs": [
    {
     "data": {
      "text/html": [
       "<div>\n",
       "<style scoped>\n",
       "    .dataframe tbody tr th:only-of-type {\n",
       "        vertical-align: middle;\n",
       "    }\n",
       "\n",
       "    .dataframe tbody tr th {\n",
       "        vertical-align: top;\n",
       "    }\n",
       "\n",
       "    .dataframe thead th {\n",
       "        text-align: right;\n",
       "    }\n",
       "</style>\n",
       "<table border=\"1\" class=\"dataframe\">\n",
       "  <thead>\n",
       "    <tr style=\"text-align: right;\">\n",
       "      <th></th>\n",
       "      <th>0</th>\n",
       "      <th>1</th>\n",
       "    </tr>\n",
       "  </thead>\n",
       "  <tbody>\n",
       "    <tr>\n",
       "      <th>0</th>\n",
       "      <td>Equatorial Diameter:</td>\n",
       "      <td>6,792 km</td>\n",
       "    </tr>\n",
       "    <tr>\n",
       "      <th>1</th>\n",
       "      <td>Polar Diameter:</td>\n",
       "      <td>6,752 km</td>\n",
       "    </tr>\n",
       "    <tr>\n",
       "      <th>2</th>\n",
       "      <td>Mass:</td>\n",
       "      <td>6.39 × 10^23 kg (0.11 Earths)</td>\n",
       "    </tr>\n",
       "    <tr>\n",
       "      <th>3</th>\n",
       "      <td>Moons:</td>\n",
       "      <td>2 ( Phobos &amp; Deimos )</td>\n",
       "    </tr>\n",
       "    <tr>\n",
       "      <th>4</th>\n",
       "      <td>Orbit Distance:</td>\n",
       "      <td>227,943,824 km (1.38 AU)</td>\n",
       "    </tr>\n",
       "    <tr>\n",
       "      <th>5</th>\n",
       "      <td>Orbit Period:</td>\n",
       "      <td>687 days (1.9 years)</td>\n",
       "    </tr>\n",
       "    <tr>\n",
       "      <th>6</th>\n",
       "      <td>Surface Temperature:</td>\n",
       "      <td>-87 to -5 °C</td>\n",
       "    </tr>\n",
       "    <tr>\n",
       "      <th>7</th>\n",
       "      <td>First Record:</td>\n",
       "      <td>2nd millennium BC</td>\n",
       "    </tr>\n",
       "    <tr>\n",
       "      <th>8</th>\n",
       "      <td>Recorded By:</td>\n",
       "      <td>Egyptian astronomers</td>\n",
       "    </tr>\n",
       "  </tbody>\n",
       "</table>\n",
       "</div>"
      ],
      "text/plain": [
       "                      0                              1\n",
       "0  Equatorial Diameter:                       6,792 km\n",
       "1       Polar Diameter:                       6,752 km\n",
       "2                 Mass:  6.39 × 10^23 kg (0.11 Earths)\n",
       "3                Moons:          2 ( Phobos & Deimos )\n",
       "4       Orbit Distance:       227,943,824 km (1.38 AU)\n",
       "5         Orbit Period:           687 days (1.9 years)\n",
       "6  Surface Temperature:                   -87 to -5 °C\n",
       "7         First Record:              2nd millennium BC\n",
       "8          Recorded By:           Egyptian astronomers"
      ]
     },
     "execution_count": 15,
     "metadata": {},
     "output_type": "execute_result"
    }
   ],
   "source": [
    "# Create a dataframe from the first table\n",
    "mars_earth_df = tables[1]\n",
    "mars_earth_df"
   ]
  },
  {
   "cell_type": "code",
   "execution_count": 16,
   "id": "computational-annual",
   "metadata": {},
   "outputs": [],
   "source": [
    "# Create html table for mars facts\n",
    "html_table = mars_earth_df.to_html()"
   ]
  },
  {
   "cell_type": "code",
   "execution_count": 17,
   "id": "sorted-jenny",
   "metadata": {},
   "outputs": [],
   "source": [
    "# Print html table for mars facts\n",
    "#print(html_table)"
   ]
  },
  {
   "cell_type": "markdown",
   "id": "emerging-helicopter",
   "metadata": {},
   "source": [
    "## Mars Hemispheres:"
   ]
  },
  {
   "cell_type": "code",
   "execution_count": 18,
   "id": "northern-notion",
   "metadata": {},
   "outputs": [],
   "source": [
    "# Define the url\n",
    "url = 'https://marshemispheres.com/'\n",
    "\n",
    "# Visit the url\n",
    "browser.visit(url)"
   ]
  },
  {
   "cell_type": "code",
   "execution_count": 19,
   "id": "thick-semiconductor",
   "metadata": {},
   "outputs": [],
   "source": [
    "# Access the html and parse through it\n",
    "html = browser.html\n",
    "soup = bs(html, 'html.parser')\n",
    "    \n",
    "# Create a hemispheres list\n",
    "hemisphere_image_urls = []\n",
    "    \n",
    "# Get the 4 descriptions for the website - h3\n",
    "descriptions = soup.find_all('h3', limit=4)"
   ]
  },
  {
   "cell_type": "code",
   "execution_count": 20,
   "id": "directed-preview",
   "metadata": {},
   "outputs": [],
   "source": [
    "# Iterate through the descriptions\n",
    "for title in descriptions:\n",
    "            \n",
    "    # Click on the description to get the full image\n",
    "    browser.links.find_by_partial_text(title.text).click()\n",
    "            \n",
    "    # Create a new html browser query for the new page\n",
    "    html = browser.html\n",
    "    soup = bs(html, 'html.parser')\n",
    "            \n",
    "    # Find the downloads box\n",
    "    downloads = soup.find('div', class_='downloads')\n",
    "            \n",
    "    # Find the downloads list\n",
    "    img_list = downloads.find('li')\n",
    "            \n",
    "    # Get the first list object's href\n",
    "    img_url = img_list.a['href']\n",
    "    \n",
    "    # Create the full url for the image\n",
    "    img_url = url + img_url\n",
    "    \n",
    "    # Create a dictionary of the values\n",
    "    dictionary = {\n",
    "        \"title\": title.text,\n",
    "        \"img_url\": img_url\n",
    "        }\n",
    "    \n",
    "    # Append the dictionary to the hemispheres list\n",
    "    hemisphere_image_urls.append(dictionary) \n",
    "    \n",
    "    # Navigate back to the main page\n",
    "    browser.back()"
   ]
  },
  {
   "cell_type": "code",
   "execution_count": 21,
   "id": "stone-cherry",
   "metadata": {},
   "outputs": [
    {
     "name": "stdout",
     "output_type": "stream",
     "text": [
      "[{'title': 'Cerberus Hemisphere Enhanced', 'img_url': 'https://marshemispheres.com/images/full.jpg'}, {'title': 'Schiaparelli Hemisphere Enhanced', 'img_url': 'https://marshemispheres.com/images/schiaparelli_enhanced-full.jpg'}, {'title': 'Syrtis Major Hemisphere Enhanced', 'img_url': 'https://marshemispheres.com/images/syrtis_major_enhanced-full.jpg'}, {'title': 'Valles Marineris Hemisphere Enhanced', 'img_url': 'https://marshemispheres.com/images/valles_marineris_enhanced-full.jpg'}]\n"
     ]
    }
   ],
   "source": [
    "print(hemisphere_image_urls)"
   ]
  },
  {
   "cell_type": "code",
   "execution_count": null,
   "id": "closing-nigeria",
   "metadata": {},
   "outputs": [],
   "source": []
  },
  {
   "cell_type": "code",
   "execution_count": null,
   "id": "random-desire",
   "metadata": {},
   "outputs": [],
   "source": []
  }
 ],
 "metadata": {
  "kernelspec": {
   "display_name": "Python [conda env:PythonData] *",
   "language": "python",
   "name": "conda-env-PythonData-py"
  },
  "language_info": {
   "codemirror_mode": {
    "name": "ipython",
    "version": 3
   },
   "file_extension": ".py",
   "mimetype": "text/x-python",
   "name": "python",
   "nbconvert_exporter": "python",
   "pygments_lexer": "ipython3",
   "version": "3.6.10"
  }
 },
 "nbformat": 4,
 "nbformat_minor": 5
}
